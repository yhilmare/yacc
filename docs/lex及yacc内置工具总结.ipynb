{
 "cells": [
  {
   "cell_type": "markdown",
   "metadata": {},
   "source": [
    "# yytext"
   ]
  },
  {
   "cell_type": "markdown",
   "metadata": {},
   "source": [
    "* 类型：`char*`\n",
    "* 所属类别：lex\n",
    "* 作用：进行lex词法匹配时，lex每匹配到一个模式，就会在对应的动作代码块中将该指针指向这个字符串，使用者可以在代码块中通过引用该指针的方式使用这个字符串。\n",
    "\n",
    "```C\n",
    "%%\n",
    "\n",
    "love {\n",
    "        printf(\"yytext is %s\\n\", yytext);\n",
    "     }\n",
    "%%\n",
    "```"
   ]
  },
  {
   "cell_type": "markdown",
   "metadata": {},
   "source": [
    "# yylex"
   ]
  },
  {
   "cell_type": "markdown",
   "metadata": {},
   "source": [
    "* 类型：函数\n",
    "* 所属类别：lex\n",
    "* 作用：这是调用lex分析程序的函数入口，通过调用这个函数来进行词法分析。根据实际的测试发现，这个程序如果单纯地调用那么将会直接从标准输入（stdin，也就是键盘输入）中读取字符串，应该是可以通过某种传参来改变其读取的来源（例如读文件）\n",
    "\n",
    "```C\n",
    "%{%}\n",
    "%%\n",
    "\n",
    "...    \n",
    "%%\n",
    "    \n",
    "int main() {\n",
    "    yylex();\n",
    "}\n",
    "%%\n",
    "```"
   ]
  },
  {
   "cell_type": "markdown",
   "metadata": {},
   "source": [
    "# yyin\n",
    "\n",
    "* 类型：FILE *\n",
    "* 所属类别：yylex\n",
    "* 作用：这是一个文件指针，在yylex中默认读取的就是yyin中的内容，这就意味着yyin的默认值应该就是stdin。可以通过修改yyin的内容，例如指向一个`fopen('text.txt', 'r');`来定义从文件中读取，而不是从stdin中读取。"
   ]
  },
  {
   "cell_type": "markdown",
   "metadata": {},
   "source": [
    "# yyerror\n",
    "\n",
    "* 类型：函数，`void yyerror(char *)`\n",
    "* 所属类别：yacc\n",
    "* 作用：这并不是一个可以直接调用的内置函数，需要使用者自己去实现这个函数。而具体的调用则是yacc自己在检测到语法错误时才会发生。用户通过实现这个函数来决定在发生语法错误时的具体处理。"
   ]
  },
  {
   "cell_type": "markdown",
   "metadata": {},
   "source": [
    "# yyparse\n",
    "\n",
    "* 类型：函数\n",
    "* 所属类别：yacc\n",
    "* 作用：这是语法分析的核心函数，这个函数中会调用yylex来进行词法分析，根据yylex的返回值来识别具体的token，当yylex返回一个特殊的token（0）时等于告诉yyparse当前的词法分析结束了，需要进行语法分析了，此时yyparse就会根据之前yylex已经返回的token集合以及预先定义好的语法规则进行匹配，即进行语法分析，分析结束后yyparse就会返回。"
   ]
  },
  {
   "cell_type": "markdown",
   "metadata": {},
   "source": [
    "# yyleng\n",
    "\n",
    "* 类型：int\n",
    "* 所属类别：lex\n",
    "* 作用：当lex识别到一个单词符合自己规则部分的某个规则时，这个识别到的单词本身会被yytext指针指向，同时这个单词的长度也将会使用yyleng来代表。比如说lex匹配到了一个单词love，那么此时yytext指针指向这个单词，同时yyleng的值被设置为4"
   ]
  },
  {
   "cell_type": "markdown",
   "metadata": {},
   "source": [
    "# yywrap\n",
    "* 类型：int yywrap()，有的lex版本中也会将yywrap实现为一个宏\n",
    "* 所属类别：lex\n",
    "* 作用：yylex在进行词法解析时扫描到yyin的末尾，即eof(yyin)时，yylex()会调用这个函数，如果这个函数返回1，则代表没有更多输入了那么yylex将会返回0退出，表示解析结束，如果返回0则yywrap需要在内部重新定向yyin，yylex在收到yywrap为0的返回后知道还有解析任务没有完成，将会重新从yyin中读取字符进行解析。"
   ]
  },
  {
   "cell_type": "code",
   "execution_count": null,
   "metadata": {},
   "outputs": [],
   "source": []
  }
 ],
 "metadata": {
  "kernelspec": {
   "display_name": "Python 3",
   "language": "python",
   "name": "python3"
  },
  "language_info": {
   "codemirror_mode": {
    "name": "ipython",
    "version": 3
   },
   "file_extension": ".py",
   "mimetype": "text/x-python",
   "name": "python",
   "nbconvert_exporter": "python",
   "pygments_lexer": "ipython3",
   "version": "3.6.3"
  }
 },
 "nbformat": 4,
 "nbformat_minor": 2
}
